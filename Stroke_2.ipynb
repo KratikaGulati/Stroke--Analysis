{
 "cells": [
  {
   "cell_type": "code",
   "execution_count": 220,
   "metadata": {},
   "outputs": [],
   "source": [
    "import numpy as np\n",
    "import pandas as pd\n",
    "from sklearn.model_selection import train_test_split\n",
    "from imblearn.under_sampling import RandomUnderSampler\n",
    "from imblearn.over_sampling import RandomOverSampler\n",
    "from sklearn.linear_model import LogisticRegression\n",
    "from sklearn.preprocessing import LabelEncoder,OneHotEncoder,StandardScaler\n",
    "from sklearn.metrics import recall_score, precision_score,f1_score,roc_auc_score,auc,classification_report\n",
    "from sklearn.ensemble import RandomForestClassifier"
   ]
  },
  {
   "cell_type": "code",
   "execution_count": 221,
   "metadata": {},
   "outputs": [],
   "source": [
    "train=pd.read_csv(\"train_2v.csv\")\n",
    "test=pd.read_csv('test_2v.csv')"
   ]
  },
  {
   "cell_type": "markdown",
   "metadata": {},
   "source": [
    "Missing Values in bmi"
   ]
  },
  {
   "cell_type": "code",
   "execution_count": 222,
   "metadata": {},
   "outputs": [],
   "source": [
    "train['bmi']=train['bmi'].fillna(train['bmi'].mean())\n",
    "test['bmi']=test['bmi'].fillna(test['bmi'].mean())"
   ]
  },
  {
   "cell_type": "code",
   "execution_count": 223,
   "metadata": {},
   "outputs": [],
   "source": [
    "train_with_smoke=train[train['smoking_status'].notna()]\n",
    "train_without_smoke=train[~train['smoking_status'].notna()]"
   ]
  },
  {
   "cell_type": "code",
   "execution_count": 224,
   "metadata": {},
   "outputs": [
    {
     "data": {
      "text/plain": [
       "(13292, 12)"
      ]
     },
     "execution_count": 224,
     "metadata": {},
     "output_type": "execute_result"
    }
   ],
   "source": [
    "train_without_smoke.shape"
   ]
  },
  {
   "cell_type": "code",
   "execution_count": 225,
   "metadata": {},
   "outputs": [
    {
     "data": {
      "text/plain": [
       "(30108, 12)"
      ]
     },
     "execution_count": 225,
     "metadata": {},
     "output_type": "execute_result"
    }
   ],
   "source": [
    "train_with_smoke.shape"
   ]
  },
  {
   "cell_type": "code",
   "execution_count": 226,
   "metadata": {},
   "outputs": [],
   "source": [
    "x_without_smoke=train_without_smoke.drop(['id','stroke','smoking_status'],axis=1)\n",
    "x_with_smoke=train_with_smoke.drop(['id','stroke'],axis=1)\n",
    "y_without_smoke=train_without_smoke['stroke']\n",
    "y_with_smoke=train_with_smoke['stroke']"
   ]
  },
  {
   "cell_type": "markdown",
   "metadata": {},
   "source": [
    "Handling Labels"
   ]
  },
  {
   "cell_type": "code",
   "execution_count": 227,
   "metadata": {},
   "outputs": [],
   "source": [
    "lb=LabelEncoder()\n",
    "\n",
    "x_with_smoke['gender']=lb.fit_transform(x_with_smoke['gender'])\n",
    "x_with_smoke['ever_married']=lb.fit_transform(x_with_smoke['ever_married'])\n",
    "x_with_smoke['Residence_type']=lb.fit_transform(x_with_smoke['Residence_type'])\n",
    "\n",
    "\n",
    "x_without_smoke['gender']=lb.fit_transform(x_without_smoke['gender'])\n",
    "x_without_smoke['ever_married']=lb.fit_transform(x_without_smoke['ever_married'])\n",
    "x_without_smoke['Residence_type']=lb.fit_transform(x_without_smoke['Residence_type'])\n",
    "\n",
    "x_with_smoke=x_with_smoke.join(pd.get_dummies(x_with_smoke['smoking_status'],drop_first=True))\n",
    "x_without_smoke=x_without_smoke.join(pd.get_dummies(x_without_smoke['work_type'],drop_first=True))\n",
    "x_with_smoke=x_with_smoke.join(pd.get_dummies(x_with_smoke['work_type'],drop_first=True))\n",
    "x_with_smoke=x_with_smoke.drop(['smoking_status','work_type'],axis=1)\n",
    "x_without_smoke=x_without_smoke.drop('work_type',axis=1)\n"
   ]
  },
  {
   "cell_type": "markdown",
   "metadata": {},
   "source": [
    "OverSampling using RandomOverSampler"
   ]
  },
  {
   "cell_type": "code",
   "execution_count": 228,
   "metadata": {},
   "outputs": [],
   "source": [
    "x_oversample,y_oversample=RandomOverSampler(random_state=0).fit_resample(x_with_smoke,y_with_smoke)\n",
    "x_oversample1,y_oversample1=RandomOverSampler(random_state=0).fit_resample(x_without_smoke,y_without_smoke)"
   ]
  },
  {
   "cell_type": "markdown",
   "metadata": {},
   "source": [
    "Splitting  values"
   ]
  },
  {
   "cell_type": "code",
   "execution_count": 229,
   "metadata": {},
   "outputs": [],
   "source": [
    "x_train,x_test,y_train,y_test=train_test_split(x_oversample,y_oversample,test_size=0.2)\n",
    "x_train1,x_test1,y_train1,y_test1=train_test_split(x_oversample1,y_oversample1,test_size=0.2)"
   ]
  },
  {
   "cell_type": "markdown",
   "metadata": {},
   "source": [
    "Scaling Values"
   ]
  },
  {
   "cell_type": "code",
   "execution_count": 230,
   "metadata": {
    "scrolled": true
   },
   "outputs": [],
   "source": [
    "scaler=StandardScaler()"
   ]
  },
  {
   "cell_type": "code",
   "execution_count": 231,
   "metadata": {},
   "outputs": [],
   "source": [
    "x_train=scaler.fit_transform(x_train)\n",
    "x_test=scaler.transform(x_test)\n",
    "\n",
    "x_train1=scaler.fit_transform(x_train1)\n",
    "x_test1=scaler.transform(x_test1)"
   ]
  },
  {
   "cell_type": "markdown",
   "metadata": {},
   "source": [
    "Logistic Regression"
   ]
  },
  {
   "cell_type": "code",
   "execution_count": 232,
   "metadata": {},
   "outputs": [],
   "source": [
    "lr=LogisticRegression()"
   ]
  },
  {
   "cell_type": "code",
   "execution_count": 233,
   "metadata": {},
   "outputs": [],
   "source": [
    "lr.fit(x_train,y_train)\n",
    "y_pred=lr.predict(x_test)\n",
    "\n",
    "lr.fit(x_train1,y_train1)\n",
    "y_pred1=lr.predict(x_test1)"
   ]
  },
  {
   "cell_type": "markdown",
   "metadata": {},
   "source": [
    "Scores"
   ]
  },
  {
   "cell_type": "code",
   "execution_count": 234,
   "metadata": {},
   "outputs": [
    {
     "name": "stdout",
     "output_type": "stream",
     "text": [
      "With Smoke recall score : 0.7969380888290714\n",
      "With Smoke precision score : 0.7463368520560895\n",
      "With Smoke f1 score : 0.7708079082255309\n",
      "\n",
      "Classification report of with smoke\n",
      "              precision    recall  f1-score   support\n",
      "\n",
      "           0       0.78      0.72      0.75      5844\n",
      "           1       0.75      0.80      0.77      5944\n",
      "\n",
      "    accuracy                           0.76     11788\n",
      "   macro avg       0.76      0.76      0.76     11788\n",
      "weighted avg       0.76      0.76      0.76     11788\n",
      "\n",
      "Without Smoke recall score : 0.8728687916975537\n",
      "Without Smoke precision score : 0.8154432132963989\n",
      "Without Smoke f1 score : 0.8431793770139635\n",
      "\n",
      "Classification report of without smoke\n",
      "              precision    recall  f1-score   support\n",
      "\n",
      "           0       0.86      0.79      0.82      2561\n",
      "           1       0.82      0.87      0.84      2698\n",
      "\n",
      "    accuracy                           0.83      5259\n",
      "   macro avg       0.84      0.83      0.83      5259\n",
      "weighted avg       0.83      0.83      0.83      5259\n",
      "\n"
     ]
    }
   ],
   "source": [
    "print(\"With Smoke recall score : {}\".format(recall_score(y_test,y_pred)))\n",
    "print(\"With Smoke precision score : {}\".format(precision_score(y_test,y_pred)))\n",
    "print(\"With Smoke f1 score : {}\".format(f1_score(y_test,y_pred)))\n",
    "print()\n",
    "print(\"Classification report of with smoke\",classification_report(y_test,y_pred),sep=\"\\n\")\n",
    "\n",
    "print(\"Without Smoke recall score : {}\".format(recall_score(y_test1,y_pred1)))\n",
    "print(\"Without Smoke precision score : {}\".format(precision_score(y_test1,y_pred1)))\n",
    "print(\"Without Smoke f1 score : {}\".format(f1_score(y_test1,y_pred1)))\n",
    "print()\n",
    "print(\"Classification report of without smoke\",classification_report(y_test1,y_pred1),sep=\"\\n\")\n"
   ]
  },
  {
   "cell_type": "markdown",
   "metadata": {},
   "source": [
    "Random forest"
   ]
  },
  {
   "cell_type": "code",
   "execution_count": 235,
   "metadata": {},
   "outputs": [],
   "source": [
    "ran=RandomForestClassifier()\n",
    "ran1=RandomForestClassifier()"
   ]
  },
  {
   "cell_type": "code",
   "execution_count": 236,
   "metadata": {},
   "outputs": [],
   "source": [
    "ran.fit(x_train,y_train)\n",
    "y_pred=ran.predict(x_test)\n",
    "\n",
    "ran1.fit(x_train1,y_train1)\n",
    "y_pred1=ran1.predict(x_test1)"
   ]
  },
  {
   "cell_type": "code",
   "execution_count": 237,
   "metadata": {},
   "outputs": [
    {
     "name": "stdout",
     "output_type": "stream",
     "text": [
      "With Smoke recall score : 1.0\n",
      "With Smoke precision score : 0.995478144364428\n",
      "With Smoke f1 score : 0.9977339488040285\n",
      "\n",
      "Classification report of with smoke\n",
      "              precision    recall  f1-score   support\n",
      "\n",
      "           0       1.00      1.00      1.00      5844\n",
      "           1       1.00      1.00      1.00      5944\n",
      "\n",
      "    accuracy                           1.00     11788\n",
      "   macro avg       1.00      1.00      1.00     11788\n",
      "weighted avg       1.00      1.00      1.00     11788\n",
      "\n",
      "Without Smoke recall score : 1.0\n",
      "Without Smoke precision score : 0.9974121996303142\n",
      "Without Smoke f1 score : 0.9987044234684435\n",
      "\n",
      "Classification report of without smoke\n",
      "              precision    recall  f1-score   support\n",
      "\n",
      "           0       1.00      1.00      1.00      2561\n",
      "           1       1.00      1.00      1.00      2698\n",
      "\n",
      "    accuracy                           1.00      5259\n",
      "   macro avg       1.00      1.00      1.00      5259\n",
      "weighted avg       1.00      1.00      1.00      5259\n",
      "\n"
     ]
    }
   ],
   "source": [
    "print(\"With Smoke recall score : {}\".format(recall_score(y_test,y_pred)))\n",
    "print(\"With Smoke precision score : {}\".format(precision_score(y_test,y_pred)))\n",
    "print(\"With Smoke f1 score : {}\".format(f1_score(y_test,y_pred)))\n",
    "print()\n",
    "print(\"Classification report of with smoke\",classification_report(y_test,y_pred),sep=\"\\n\")\n",
    "\n",
    "print(\"Without Smoke recall score : {}\".format(recall_score(y_test1,y_pred1)))\n",
    "print(\"Without Smoke precision score : {}\".format(precision_score(y_test1,y_pred1)))\n",
    "print(\"Without Smoke f1 score : {}\".format(f1_score(y_test1,y_pred1)))\n",
    "print()\n",
    "print(\"Classification report of without smoke\",classification_report(y_test1,y_pred1),sep=\"\\n\")\n"
   ]
  },
  {
   "cell_type": "markdown",
   "metadata": {},
   "source": [
    "Random Forest is better in this case."
   ]
  },
  {
   "cell_type": "markdown",
   "metadata": {},
   "source": [
    "Predicting on Test Data"
   ]
  },
  {
   "cell_type": "code",
   "execution_count": 238,
   "metadata": {},
   "outputs": [],
   "source": [
    "test['gender']=lb.fit_transform(test['gender'])\n",
    "test['ever_married']=lb.fit_transform(test['ever_married'])\n",
    "test['Residence_type']=lb.fit_transform(test['Residence_type'])\n",
    "\n",
    "test=test.join(pd.get_dummies(test['work_type'],drop_first=True))\n",
    "\n",
    "test=test.drop(['work_type','smoking_status'],axis=1)"
   ]
  },
  {
   "cell_type": "code",
   "execution_count": 239,
   "metadata": {},
   "outputs": [
    {
     "ename": "ValueError",
     "evalue": "Number of features of the model must match the input. Model n_features is 12 and input n_features is 13 ",
     "output_type": "error",
     "traceback": [
      "\u001b[0;31m---------------------------------------------------------------------------\u001b[0m",
      "\u001b[0;31mValueError\u001b[0m                                Traceback (most recent call last)",
      "\u001b[0;32m<ipython-input-239-05edfd17e6ca>\u001b[0m in \u001b[0;36m<module>\u001b[0;34m\u001b[0m\n\u001b[0;32m----> 1\u001b[0;31m \u001b[0mtest_pred\u001b[0m\u001b[0;34m=\u001b[0m\u001b[0mran1\u001b[0m\u001b[0;34m.\u001b[0m\u001b[0mpredict\u001b[0m\u001b[0;34m(\u001b[0m\u001b[0mtest\u001b[0m\u001b[0;34m)\u001b[0m\u001b[0;34m\u001b[0m\u001b[0;34m\u001b[0m\u001b[0m\n\u001b[0m",
      "\u001b[0;32m~/.local/lib/python3.6/site-packages/sklearn/ensemble/_forest.py\u001b[0m in \u001b[0;36mpredict\u001b[0;34m(self, X)\u001b[0m\n\u001b[1;32m    610\u001b[0m             \u001b[0mThe\u001b[0m \u001b[0mpredicted\u001b[0m \u001b[0mclasses\u001b[0m\u001b[0;34m.\u001b[0m\u001b[0;34m\u001b[0m\u001b[0;34m\u001b[0m\u001b[0m\n\u001b[1;32m    611\u001b[0m         \"\"\"\n\u001b[0;32m--> 612\u001b[0;31m         \u001b[0mproba\u001b[0m \u001b[0;34m=\u001b[0m \u001b[0mself\u001b[0m\u001b[0;34m.\u001b[0m\u001b[0mpredict_proba\u001b[0m\u001b[0;34m(\u001b[0m\u001b[0mX\u001b[0m\u001b[0;34m)\u001b[0m\u001b[0;34m\u001b[0m\u001b[0;34m\u001b[0m\u001b[0m\n\u001b[0m\u001b[1;32m    613\u001b[0m \u001b[0;34m\u001b[0m\u001b[0m\n\u001b[1;32m    614\u001b[0m         \u001b[0;32mif\u001b[0m \u001b[0mself\u001b[0m\u001b[0;34m.\u001b[0m\u001b[0mn_outputs_\u001b[0m \u001b[0;34m==\u001b[0m \u001b[0;36m1\u001b[0m\u001b[0;34m:\u001b[0m\u001b[0;34m\u001b[0m\u001b[0;34m\u001b[0m\u001b[0m\n",
      "\u001b[0;32m~/.local/lib/python3.6/site-packages/sklearn/ensemble/_forest.py\u001b[0m in \u001b[0;36mpredict_proba\u001b[0;34m(self, X)\u001b[0m\n\u001b[1;32m    654\u001b[0m         \u001b[0mcheck_is_fitted\u001b[0m\u001b[0;34m(\u001b[0m\u001b[0mself\u001b[0m\u001b[0;34m)\u001b[0m\u001b[0;34m\u001b[0m\u001b[0;34m\u001b[0m\u001b[0m\n\u001b[1;32m    655\u001b[0m         \u001b[0;31m# Check data\u001b[0m\u001b[0;34m\u001b[0m\u001b[0;34m\u001b[0m\u001b[0;34m\u001b[0m\u001b[0m\n\u001b[0;32m--> 656\u001b[0;31m         \u001b[0mX\u001b[0m \u001b[0;34m=\u001b[0m \u001b[0mself\u001b[0m\u001b[0;34m.\u001b[0m\u001b[0m_validate_X_predict\u001b[0m\u001b[0;34m(\u001b[0m\u001b[0mX\u001b[0m\u001b[0;34m)\u001b[0m\u001b[0;34m\u001b[0m\u001b[0;34m\u001b[0m\u001b[0m\n\u001b[0m\u001b[1;32m    657\u001b[0m \u001b[0;34m\u001b[0m\u001b[0m\n\u001b[1;32m    658\u001b[0m         \u001b[0;31m# Assign chunk of trees to jobs\u001b[0m\u001b[0;34m\u001b[0m\u001b[0;34m\u001b[0m\u001b[0;34m\u001b[0m\u001b[0m\n",
      "\u001b[0;32m~/.local/lib/python3.6/site-packages/sklearn/ensemble/_forest.py\u001b[0m in \u001b[0;36m_validate_X_predict\u001b[0;34m(self, X)\u001b[0m\n\u001b[1;32m    410\u001b[0m         \u001b[0mcheck_is_fitted\u001b[0m\u001b[0;34m(\u001b[0m\u001b[0mself\u001b[0m\u001b[0;34m)\u001b[0m\u001b[0;34m\u001b[0m\u001b[0;34m\u001b[0m\u001b[0m\n\u001b[1;32m    411\u001b[0m \u001b[0;34m\u001b[0m\u001b[0m\n\u001b[0;32m--> 412\u001b[0;31m         \u001b[0;32mreturn\u001b[0m \u001b[0mself\u001b[0m\u001b[0;34m.\u001b[0m\u001b[0mestimators_\u001b[0m\u001b[0;34m[\u001b[0m\u001b[0;36m0\u001b[0m\u001b[0;34m]\u001b[0m\u001b[0;34m.\u001b[0m\u001b[0m_validate_X_predict\u001b[0m\u001b[0;34m(\u001b[0m\u001b[0mX\u001b[0m\u001b[0;34m,\u001b[0m \u001b[0mcheck_input\u001b[0m\u001b[0;34m=\u001b[0m\u001b[0;32mTrue\u001b[0m\u001b[0;34m)\u001b[0m\u001b[0;34m\u001b[0m\u001b[0;34m\u001b[0m\u001b[0m\n\u001b[0m\u001b[1;32m    413\u001b[0m \u001b[0;34m\u001b[0m\u001b[0m\n\u001b[1;32m    414\u001b[0m     \u001b[0;34m@\u001b[0m\u001b[0mproperty\u001b[0m\u001b[0;34m\u001b[0m\u001b[0;34m\u001b[0m\u001b[0m\n",
      "\u001b[0;32m~/.local/lib/python3.6/site-packages/sklearn/tree/_classes.py\u001b[0m in \u001b[0;36m_validate_X_predict\u001b[0;34m(self, X, check_input)\u001b[0m\n\u001b[1;32m    389\u001b[0m                              \u001b[0;34m\"match the input. Model n_features is %s and \"\u001b[0m\u001b[0;34m\u001b[0m\u001b[0;34m\u001b[0m\u001b[0m\n\u001b[1;32m    390\u001b[0m                              \u001b[0;34m\"input n_features is %s \"\u001b[0m\u001b[0;34m\u001b[0m\u001b[0;34m\u001b[0m\u001b[0m\n\u001b[0;32m--> 391\u001b[0;31m                              % (self.n_features_, n_features))\n\u001b[0m\u001b[1;32m    392\u001b[0m \u001b[0;34m\u001b[0m\u001b[0m\n\u001b[1;32m    393\u001b[0m         \u001b[0;32mreturn\u001b[0m \u001b[0mX\u001b[0m\u001b[0;34m\u001b[0m\u001b[0;34m\u001b[0m\u001b[0m\n",
      "\u001b[0;31mValueError\u001b[0m: Number of features of the model must match the input. Model n_features is 12 and input n_features is 13 "
     ]
    }
   ],
   "source": [
    "test_pred=ran1.predict(test)"
   ]
  },
  {
   "cell_type": "code",
   "execution_count": null,
   "metadata": {},
   "outputs": [],
   "source": []
  }
 ],
 "metadata": {
  "kernelspec": {
   "display_name": "Python 3",
   "language": "python",
   "name": "python3"
  },
  "language_info": {
   "codemirror_mode": {
    "name": "ipython",
    "version": 3
   },
   "file_extension": ".py",
   "mimetype": "text/x-python",
   "name": "python",
   "nbconvert_exporter": "python",
   "pygments_lexer": "ipython3",
   "version": "3.6.9"
  }
 },
 "nbformat": 4,
 "nbformat_minor": 2
}
